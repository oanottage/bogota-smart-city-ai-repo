{
 "cells": [
  {
   "cell_type": "markdown",
   "metadata": {},
   "source": [
    "# EDA & Great Expectations - Accident Yearbook Data"
   ]
  },
  {
   "cell_type": "markdown",
   "metadata": {},
   "source": [
    "## 1. Connect to Data Sources"
   ]
  },
  {
   "cell_type": "code",
   "execution_count": 1,
   "metadata": {},
   "outputs": [],
   "source": [
    "# Import required libraries\n",
    "import pandas as pd\n",
    "import os\n",
    "from dotenv import load_dotenv\n",
    "\n",
    "# Load environment variables\n",
    "load_dotenv()  # Loads from .env by default\n",
    "\n",
    "## Define base path (adjust if notebook is in different location)\n",
    "BASE_PATH = os.getenv('BASE_PATH')\n",
    "\n",
    "# Verify base path exists\n",
    "if not BASE_PATH or not os.path.exists(BASE_PATH):\n",
    "    raise ValueError(f\"Invalid BASE_PATH: {BASE_PATH}. Check your .env file and directory structure\")"
   ]
  },
  {
   "cell_type": "code",
   "execution_count": 2,
   "metadata": {},
   "outputs": [],
   "source": [
    "# Load data from Excel\n",
    "def load_excel_sheets(file_path):\n",
    "    \"\"\"Load all sheets from an Excel file into a dictionary of DataFrames\"\"\"\n",
    "    xl = pd.ExcelFile(file_path)\n",
    "    return {sheet_name: xl.parse(sheet_name) for sheet_name in xl.sheet_names}"
   ]
  },
  {
   "cell_type": "code",
   "execution_count": null,
   "metadata": {},
   "outputs": [],
   "source": [
    "# Load Accident Yearbook\n",
    "accident_yearbook_sheets = load_excel_sheets(\n",
    "    os.path.join(BASE_PATH, \"data/raw/accident-yearbook/base-anuario-de-siniestralidad-2023.xlsx\")\n",
    ")\n",
    "\n",
    "# Access specific sheet from Accident Yearbook\n",
    "ays_claims = accident_yearbook_sheets['Siniestros']\n",
    "ays_vehicles = accident_yearbook_sheets['Vehiculos']\n",
    "ays_road_actor = accident_yearbook_sheets['Actor_vial']\n",
    "ays_dictionary = accident_yearbook_sheets['Diccionario']"
   ]
  },
  {
   "cell_type": "markdown",
   "metadata": {},
   "source": [
    "## 2. Exploratory Data Analysis"
   ]
  },
  {
   "cell_type": "markdown",
   "metadata": {},
   "source": [
    "### Claims"
   ]
  },
  {
   "cell_type": "code",
   "execution_count": 6,
   "metadata": {},
   "outputs": [
    {
     "data": {
      "text/html": [
       "<div>\n",
       "<style scoped>\n",
       "    .dataframe tbody tr th:only-of-type {\n",
       "        vertical-align: middle;\n",
       "    }\n",
       "\n",
       "    .dataframe tbody tr th {\n",
       "        vertical-align: top;\n",
       "    }\n",
       "\n",
       "    .dataframe thead th {\n",
       "        text-align: right;\n",
       "    }\n",
       "</style>\n",
       "<table border=\"1\" class=\"dataframe\">\n",
       "  <thead>\n",
       "    <tr style=\"text-align: right;\">\n",
       "      <th></th>\n",
       "      <th>Codigo_Accidente</th>\n",
       "      <th>Formulario</th>\n",
       "      <th>Longitud</th>\n",
       "      <th>Latitud</th>\n",
       "      <th>Direccion</th>\n",
       "      <th>Fecha_Acc</th>\n",
       "      <th>AA_Acc</th>\n",
       "      <th>MM_Acc</th>\n",
       "      <th>DD_Mes_Acc</th>\n",
       "      <th>Dia_Semana_Acc</th>\n",
       "      <th>...</th>\n",
       "      <th>Con_Tpp</th>\n",
       "      <th>Con_Velocidad</th>\n",
       "      <th>Con_Sitp</th>\n",
       "      <th>Con_Troncal</th>\n",
       "      <th>Con_Alimentador</th>\n",
       "      <th>Con_Zonal</th>\n",
       "      <th>Con_Provisional</th>\n",
       "      <th>Con_Articulado</th>\n",
       "      <th>Con_Biarticulado</th>\n",
       "      <th>Con_Padron_Dual</th>\n",
       "    </tr>\n",
       "  </thead>\n",
       "  <tbody>\n",
       "    <tr>\n",
       "      <th>0</th>\n",
       "      <td>10591851</td>\n",
       "      <td>A001571139</td>\n",
       "      <td>-74.162129</td>\n",
       "      <td>4.599679</td>\n",
       "      <td>AV AVENIDA CIUDAD DE VILLAVICENCIO - CL 57 B S 02</td>\n",
       "      <td>2023-05-26</td>\n",
       "      <td>2023</td>\n",
       "      <td>Mayo</td>\n",
       "      <td>26</td>\n",
       "      <td>viernes</td>\n",
       "      <td>...</td>\n",
       "      <td>NaN</td>\n",
       "      <td>NaN</td>\n",
       "      <td>NaN</td>\n",
       "      <td>NaN</td>\n",
       "      <td>NaN</td>\n",
       "      <td>NaN</td>\n",
       "      <td>NaN</td>\n",
       "      <td>NaN</td>\n",
       "      <td>NaN</td>\n",
       "      <td>NaN</td>\n",
       "    </tr>\n",
       "    <tr>\n",
       "      <th>1</th>\n",
       "      <td>10591854</td>\n",
       "      <td>A001571298</td>\n",
       "      <td>-74.158336</td>\n",
       "      <td>4.570567</td>\n",
       "      <td>KR 44 D - DG 69 K S 02</td>\n",
       "      <td>2023-05-31</td>\n",
       "      <td>2023</td>\n",
       "      <td>Mayo</td>\n",
       "      <td>31</td>\n",
       "      <td>miércoles</td>\n",
       "      <td>...</td>\n",
       "      <td>NaN</td>\n",
       "      <td>NaN</td>\n",
       "      <td>NaN</td>\n",
       "      <td>NaN</td>\n",
       "      <td>NaN</td>\n",
       "      <td>NaN</td>\n",
       "      <td>NaN</td>\n",
       "      <td>NaN</td>\n",
       "      <td>NaN</td>\n",
       "      <td>NaN</td>\n",
       "    </tr>\n",
       "    <tr>\n",
       "      <th>2</th>\n",
       "      <td>10592149</td>\n",
       "      <td>A001570489</td>\n",
       "      <td>-74.079035</td>\n",
       "      <td>4.623901</td>\n",
       "      <td>CL 26 - KR 25  02</td>\n",
       "      <td>2023-06-08</td>\n",
       "      <td>2023</td>\n",
       "      <td>Junio</td>\n",
       "      <td>8</td>\n",
       "      <td>jueves</td>\n",
       "      <td>...</td>\n",
       "      <td>NaN</td>\n",
       "      <td>NaN</td>\n",
       "      <td>NaN</td>\n",
       "      <td>NaN</td>\n",
       "      <td>NaN</td>\n",
       "      <td>NaN</td>\n",
       "      <td>NaN</td>\n",
       "      <td>NaN</td>\n",
       "      <td>NaN</td>\n",
       "      <td>NaN</td>\n",
       "    </tr>\n",
       "    <tr>\n",
       "      <th>3</th>\n",
       "      <td>10592358</td>\n",
       "      <td>A001572190</td>\n",
       "      <td>-74.077354</td>\n",
       "      <td>4.590091</td>\n",
       "      <td>CL 6 - KR 5  02</td>\n",
       "      <td>2023-06-14</td>\n",
       "      <td>2023</td>\n",
       "      <td>Junio</td>\n",
       "      <td>14</td>\n",
       "      <td>miércoles</td>\n",
       "      <td>...</td>\n",
       "      <td>NaN</td>\n",
       "      <td>NaN</td>\n",
       "      <td>NaN</td>\n",
       "      <td>NaN</td>\n",
       "      <td>NaN</td>\n",
       "      <td>NaN</td>\n",
       "      <td>NaN</td>\n",
       "      <td>NaN</td>\n",
       "      <td>NaN</td>\n",
       "      <td>NaN</td>\n",
       "    </tr>\n",
       "    <tr>\n",
       "      <th>4</th>\n",
       "      <td>10592361</td>\n",
       "      <td>A001570128</td>\n",
       "      <td>-74.029972</td>\n",
       "      <td>4.763974</td>\n",
       "      <td>CL 187 A - KR 8 C 02</td>\n",
       "      <td>2023-06-14</td>\n",
       "      <td>2023</td>\n",
       "      <td>Junio</td>\n",
       "      <td>14</td>\n",
       "      <td>miércoles</td>\n",
       "      <td>...</td>\n",
       "      <td>NaN</td>\n",
       "      <td>NaN</td>\n",
       "      <td>NaN</td>\n",
       "      <td>NaN</td>\n",
       "      <td>NaN</td>\n",
       "      <td>NaN</td>\n",
       "      <td>NaN</td>\n",
       "      <td>NaN</td>\n",
       "      <td>NaN</td>\n",
       "      <td>NaN</td>\n",
       "    </tr>\n",
       "  </tbody>\n",
       "</table>\n",
       "<p>5 rows × 38 columns</p>\n",
       "</div>"
      ],
      "text/plain": [
       "   Codigo_Accidente  Formulario   Longitud   Latitud  \\\n",
       "0          10591851  A001571139 -74.162129  4.599679   \n",
       "1          10591854  A001571298 -74.158336  4.570567   \n",
       "2          10592149  A001570489 -74.079035  4.623901   \n",
       "3          10592358  A001572190 -74.077354  4.590091   \n",
       "4          10592361  A001570128 -74.029972  4.763974   \n",
       "\n",
       "                                           Direccion  Fecha_Acc  AA_Acc  \\\n",
       "0  AV AVENIDA CIUDAD DE VILLAVICENCIO - CL 57 B S 02 2023-05-26    2023   \n",
       "1                             KR 44 D - DG 69 K S 02 2023-05-31    2023   \n",
       "2                                  CL 26 - KR 25  02 2023-06-08    2023   \n",
       "3                                    CL 6 - KR 5  02 2023-06-14    2023   \n",
       "4                               CL 187 A - KR 8 C 02 2023-06-14    2023   \n",
       "\n",
       "  MM_Acc  DD_Mes_Acc Dia_Semana_Acc  ...  Con_Tpp  Con_Velocidad Con_Sitp  \\\n",
       "0   Mayo          26        viernes  ...      NaN            NaN      NaN   \n",
       "1   Mayo          31      miércoles  ...      NaN            NaN      NaN   \n",
       "2  Junio           8         jueves  ...      NaN            NaN      NaN   \n",
       "3  Junio          14      miércoles  ...      NaN            NaN      NaN   \n",
       "4  Junio          14      miércoles  ...      NaN            NaN      NaN   \n",
       "\n",
       "  Con_Troncal Con_Alimentador Con_Zonal Con_Provisional Con_Articulado  \\\n",
       "0         NaN             NaN       NaN             NaN            NaN   \n",
       "1         NaN             NaN       NaN             NaN            NaN   \n",
       "2         NaN             NaN       NaN             NaN            NaN   \n",
       "3         NaN             NaN       NaN             NaN            NaN   \n",
       "4         NaN             NaN       NaN             NaN            NaN   \n",
       "\n",
       "  Con_Biarticulado Con_Padron_Dual  \n",
       "0              NaN             NaN  \n",
       "1              NaN             NaN  \n",
       "2              NaN             NaN  \n",
       "3              NaN             NaN  \n",
       "4              NaN             NaN  \n",
       "\n",
       "[5 rows x 38 columns]"
      ]
     },
     "execution_count": 6,
     "metadata": {},
     "output_type": "execute_result"
    }
   ],
   "source": [
    "ays_claims.head()"
   ]
  },
  {
   "cell_type": "code",
   "execution_count": null,
   "metadata": {},
   "outputs": [],
   "source": []
  },
  {
   "cell_type": "code",
   "execution_count": null,
   "metadata": {},
   "outputs": [],
   "source": []
  },
  {
   "cell_type": "code",
   "execution_count": null,
   "metadata": {},
   "outputs": [],
   "source": []
  },
  {
   "cell_type": "code",
   "execution_count": null,
   "metadata": {},
   "outputs": [],
   "source": []
  },
  {
   "cell_type": "markdown",
   "metadata": {},
   "source": [
    "### Vehicles"
   ]
  },
  {
   "cell_type": "code",
   "execution_count": null,
   "metadata": {},
   "outputs": [],
   "source": []
  },
  {
   "cell_type": "code",
   "execution_count": null,
   "metadata": {},
   "outputs": [],
   "source": []
  },
  {
   "cell_type": "code",
   "execution_count": null,
   "metadata": {},
   "outputs": [],
   "source": []
  },
  {
   "cell_type": "markdown",
   "metadata": {},
   "source": [
    "### Road Actor"
   ]
  },
  {
   "cell_type": "code",
   "execution_count": null,
   "metadata": {},
   "outputs": [],
   "source": []
  },
  {
   "cell_type": "code",
   "execution_count": null,
   "metadata": {},
   "outputs": [],
   "source": []
  },
  {
   "cell_type": "code",
   "execution_count": null,
   "metadata": {},
   "outputs": [],
   "source": []
  },
  {
   "cell_type": "markdown",
   "metadata": {},
   "source": [
    "### Dictionary"
   ]
  },
  {
   "cell_type": "code",
   "execution_count": null,
   "metadata": {},
   "outputs": [],
   "source": []
  },
  {
   "cell_type": "code",
   "execution_count": null,
   "metadata": {},
   "outputs": [],
   "source": []
  },
  {
   "cell_type": "code",
   "execution_count": null,
   "metadata": {},
   "outputs": [],
   "source": []
  }
 ],
 "metadata": {
  "kernelspec": {
   "display_name": "smartcityai",
   "language": "python",
   "name": "python3"
  },
  "language_info": {
   "codemirror_mode": {
    "name": "ipython",
    "version": 3
   },
   "file_extension": ".py",
   "mimetype": "text/x-python",
   "name": "python",
   "nbconvert_exporter": "python",
   "pygments_lexer": "ipython3",
   "version": "3.11.11"
  }
 },
 "nbformat": 4,
 "nbformat_minor": 2
}
