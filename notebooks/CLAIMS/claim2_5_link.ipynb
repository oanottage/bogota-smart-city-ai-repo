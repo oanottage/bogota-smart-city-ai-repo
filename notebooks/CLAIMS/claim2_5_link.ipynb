{
 "cells": [
  {
   "cell_type": "markdown",
   "metadata": {},
   "source": [
    "# LINK (2-3): Due to that low profit margin (deficit), theres insufficient investment opportunities for the transmilenio ❌"
   ]
  },
  {
   "cell_type": "markdown",
   "metadata": {},
   "source": [
    "See claim 3.0 - There is no proof of insufficient shuttle quantity, and so there's no need to link this claim to the insufficient investment opportunities."
   ]
  },
  {
   "cell_type": "markdown",
   "metadata": {},
   "source": [
    "# (END)"
   ]
  }
 ],
 "metadata": {
  "kernelspec": {
   "display_name": "smartcityai",
   "language": "python",
   "name": "python3"
  },
  "language_info": {
   "codemirror_mode": {
    "name": "ipython",
    "version": 3
   },
   "file_extension": ".py",
   "mimetype": "text/x-python",
   "name": "python",
   "nbconvert_exporter": "python",
   "pygments_lexer": "ipython3",
   "version": "3.11.11"
  }
 },
 "nbformat": 4,
 "nbformat_minor": 2
}
